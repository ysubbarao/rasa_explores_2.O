{
 "cells": [
  {
   "cell_type": "code",
   "execution_count": 29,
   "metadata": {},
   "outputs": [],
   "source": [
    "from gensim.models import Word2Vec\n",
    "from gensim.models import Phrases\n",
    "from gensim.models.phrases import Phraser\n",
    "import pandas as pd\n",
    "import os"
   ]
  },
  {
   "cell_type": "code",
   "execution_count": 17,
   "metadata": {},
   "outputs": [],
   "source": [
    "os.chdir('E:\\\\RASA\\RASA_2.O_Examples')"
   ]
  },
  {
   "cell_type": "code",
   "execution_count": 18,
   "metadata": {},
   "outputs": [],
   "source": [
    "combined_reviews = pd.read_csv('reviews_combined_amazon.csv')"
   ]
  },
  {
   "cell_type": "code",
   "execution_count": 19,
   "metadata": {},
   "outputs": [
    {
     "data": {
      "text/plain": [
       "(24630, 10)"
      ]
     },
     "execution_count": 19,
     "metadata": {},
     "output_type": "execute_result"
    }
   ],
   "source": [
    "combined_reviews.shape"
   ]
  },
  {
   "cell_type": "code",
   "execution_count": 20,
   "metadata": {},
   "outputs": [
    {
     "data": {
      "text/html": [
       "<div>\n",
       "<style scoped>\n",
       "    .dataframe tbody tr th:only-of-type {\n",
       "        vertical-align: middle;\n",
       "    }\n",
       "\n",
       "    .dataframe tbody tr th {\n",
       "        vertical-align: top;\n",
       "    }\n",
       "\n",
       "    .dataframe thead th {\n",
       "        text-align: right;\n",
       "    }\n",
       "</style>\n",
       "<table border=\"1\" class=\"dataframe\">\n",
       "  <thead>\n",
       "    <tr style=\"text-align: right;\">\n",
       "      <th></th>\n",
       "      <th>Unnamed: 0</th>\n",
       "      <th>review_id</th>\n",
       "      <th>product_url</th>\n",
       "      <th>review_author</th>\n",
       "      <th>Verified Buyer</th>\n",
       "      <th>review_title</th>\n",
       "      <th>review_text</th>\n",
       "      <th>stars</th>\n",
       "      <th>date</th>\n",
       "      <th>review votes</th>\n",
       "    </tr>\n",
       "  </thead>\n",
       "  <tbody>\n",
       "    <tr>\n",
       "      <th>0</th>\n",
       "      <td>0</td>\n",
       "      <td>R2883ZZX8S4DBO</td>\n",
       "      <td>https://www.amazon.in/Redmi-6A-Black-2GBRAM-St...</td>\n",
       "      <td>NaN</td>\n",
       "      <td>Yes</td>\n",
       "      <td>Redmi 6A hangs and lags while using. Redmi 5A ...</td>\n",
       "      <td>Redmi 6A has lag problems. This phone is hangi...</td>\n",
       "      <td>3.0 out of 5 stars</td>\n",
       "      <td>Reviewed in India on 30 September 2018</td>\n",
       "      <td>Null</td>\n",
       "    </tr>\n",
       "    <tr>\n",
       "      <th>1</th>\n",
       "      <td>1</td>\n",
       "      <td>R58XXWQ96EJT9</td>\n",
       "      <td>https://www.amazon.in/Redmi-6A-Black-2GBRAM-St...</td>\n",
       "      <td>NaN</td>\n",
       "      <td>Yes</td>\n",
       "      <td>GOOd budget phone, but...</td>\n",
       "      <td>Pros: 1) Decent Video/audio recording with min...</td>\n",
       "      <td>3.0 out of 5 stars</td>\n",
       "      <td>Reviewed in India on 25 October 2018</td>\n",
       "      <td>Null</td>\n",
       "    </tr>\n",
       "    <tr>\n",
       "      <th>2</th>\n",
       "      <td>2</td>\n",
       "      <td>R2MFM9SKZO2BCT</td>\n",
       "      <td>https://www.amazon.in/Redmi-6A-Black-2GBRAM-St...</td>\n",
       "      <td>NaN</td>\n",
       "      <td>Yes</td>\n",
       "      <td>Exceptional value 😍 Perfect phone for any use,...</td>\n",
       "      <td>Love the phone. Everything on it works as expe...</td>\n",
       "      <td>4.0 out of 5 stars</td>\n",
       "      <td>Reviewed in India on 14 November 2018</td>\n",
       "      <td>Null</td>\n",
       "    </tr>\n",
       "    <tr>\n",
       "      <th>3</th>\n",
       "      <td>3</td>\n",
       "      <td>RKCN05H7J4N9D</td>\n",
       "      <td>https://www.amazon.in/Redmi-6A-Black-2GBRAM-St...</td>\n",
       "      <td>NaN</td>\n",
       "      <td>Yes</td>\n",
       "      <td>Bought because of Dual 4g volte(</td>\n",
       "      <td>If u want to gift for parents I think this wil...</td>\n",
       "      <td>5.0 out of 5 stars</td>\n",
       "      <td>Reviewed in India on 30 October 2018</td>\n",
       "      <td>Null</td>\n",
       "    </tr>\n",
       "    <tr>\n",
       "      <th>4</th>\n",
       "      <td>4</td>\n",
       "      <td>RLT2QWB4HQGTJ</td>\n",
       "      <td>https://www.amazon.in/Redmi-6A-Black-2GBRAM-St...</td>\n",
       "      <td>NaN</td>\n",
       "      <td>Yes</td>\n",
       "      <td>Don't buy - 2nd Sim slot problem and battery p...</td>\n",
       "      <td>Don't buy this product. It is not recognizing ...</td>\n",
       "      <td>1.0 out of 5 stars</td>\n",
       "      <td>Reviewed in India on 8 October 2018</td>\n",
       "      <td>Null</td>\n",
       "    </tr>\n",
       "  </tbody>\n",
       "</table>\n",
       "</div>"
      ],
      "text/plain": [
       "   Unnamed: 0       review_id  \\\n",
       "0           0  R2883ZZX8S4DBO   \n",
       "1           1   R58XXWQ96EJT9   \n",
       "2           2  R2MFM9SKZO2BCT   \n",
       "3           3   RKCN05H7J4N9D   \n",
       "4           4   RLT2QWB4HQGTJ   \n",
       "\n",
       "                                         product_url review_author  \\\n",
       "0  https://www.amazon.in/Redmi-6A-Black-2GBRAM-St...           NaN   \n",
       "1  https://www.amazon.in/Redmi-6A-Black-2GBRAM-St...           NaN   \n",
       "2  https://www.amazon.in/Redmi-6A-Black-2GBRAM-St...           NaN   \n",
       "3  https://www.amazon.in/Redmi-6A-Black-2GBRAM-St...           NaN   \n",
       "4  https://www.amazon.in/Redmi-6A-Black-2GBRAM-St...           NaN   \n",
       "\n",
       "  Verified Buyer                                       review_title  \\\n",
       "0            Yes  Redmi 6A hangs and lags while using. Redmi 5A ...   \n",
       "1            Yes                          GOOd budget phone, but...   \n",
       "2            Yes  Exceptional value 😍 Perfect phone for any use,...   \n",
       "3            Yes                   Bought because of Dual 4g volte(   \n",
       "4            Yes  Don't buy - 2nd Sim slot problem and battery p...   \n",
       "\n",
       "                                         review_text               stars  \\\n",
       "0  Redmi 6A has lag problems. This phone is hangi...  3.0 out of 5 stars   \n",
       "1  Pros: 1) Decent Video/audio recording with min...  3.0 out of 5 stars   \n",
       "2  Love the phone. Everything on it works as expe...  4.0 out of 5 stars   \n",
       "3  If u want to gift for parents I think this wil...  5.0 out of 5 stars   \n",
       "4  Don't buy this product. It is not recognizing ...  1.0 out of 5 stars   \n",
       "\n",
       "                                     date review votes  \n",
       "0  Reviewed in India on 30 September 2018         Null  \n",
       "1    Reviewed in India on 25 October 2018         Null  \n",
       "2   Reviewed in India on 14 November 2018         Null  \n",
       "3    Reviewed in India on 30 October 2018         Null  \n",
       "4     Reviewed in India on 8 October 2018         Null  "
      ]
     },
     "execution_count": 20,
     "metadata": {},
     "output_type": "execute_result"
    }
   ],
   "source": [
    "combined_reviews.head()"
   ]
  },
  {
   "cell_type": "code",
   "execution_count": 21,
   "metadata": {},
   "outputs": [],
   "source": [
    "combined_reviews['review_title_text']=combined_reviews['review_title'].apply(lambda x:str(x))+ \"\" +combined_reviews['review_text'].apply(lambda x:str(x))"
   ]
  },
  {
   "cell_type": "code",
   "execution_count": 22,
   "metadata": {},
   "outputs": [],
   "source": [
    "review_title_text_list = combined_reviews['review_title_text'].to_list()"
   ]
  },
  {
   "cell_type": "code",
   "execution_count": 23,
   "metadata": {},
   "outputs": [
    {
     "data": {
      "text/plain": [
       "['Redmi 6A hangs and lags while using. Redmi 5A is better than this phone.Redmi 6A has lag problems. This phone is hanging and lags while using YouTube and browser.Redmi 5A is far better than Redmi 6A. I am regretting on my decision for buying this phone. Not satisfied.',\n",
       " \"GOOd budget phone, but...Pros: 1) Decent Video/audio recording with minimum distortion. (noise cancellation is much much better than Redmi 5a) 2) Decent Camera for a budget phone. 3) good for Android smartphone beginners. 4) Can run 3-4 apps in the background without lag/hanging. 5) Fast boot. 6) Good touch response for a budget phone, I find it to extra sensitive. hahaCons: 1) Bad Video quality for watching movies/ you tube. But I use phone only for calls, whatsapp and sometimes Instagram. I use my laptop to watch movies, so not a big deal for me. 2) Unable to share Internet hotspot to computer/Laptop. But I posted a tip on how to solve this problem in MI community India. All you need to do is download an app called PDANet+ (available in Google play store) in both your phone and computer. Go and check it out. Apart from the few drawbacks mentioned above, this phone is quite good for a budget phone. If you can live without the good video quality by watching movies/videos on another device, go for it. The 1440X720 resolution is much worse compared to Redmi 5a's 1280X720. In fact Redmi 5a's video/picture resolution is much better and detailed compared to Redmi 6a. Ordered and received another redmi 6a for my dad.\",\n",
       " \"Exceptional value 😍 Perfect phone for any use, beautifully built.Love the phone. Everything on it works as expected. I've been using this phone for about 1 weeks, and so far I'm loving it. Here's me breakdown:The quality, fit and finish are amazing. No one believes this is low priced phone.Battery: exceptional battery life, the best in any smartphone I've had so far.Build/design: one of the best smartphone designs and build quality I've used, even compared to much more expensive models.Camera: not as good as my Honor 7C, but still takes good enough pictures that it's not really a problem for me.Really littil bit difficult to find fault with this phone, especially for the price even I don't like the audio quality. overall Best Product. Durable solid feel, very responsive and works great overall.\",\n",
       " \"Bought because of Dual 4g volte(If u want to gift for parents I think this will be good option.This phone is not for heavy users that doesn't mean that u cannot use this for daily use .Yes u can use but playing heavy games like pubg etc will impact the performance.For the price this phone is good.Pros: Build quality is decent,Camera is good both front and back for this price ,display is good,decent battery life,Dual 4g volte ...Cons: Performance is average not the best in this price range but for daily use this will phone will be good.Should have provided case or screen guard in the box.I am not the big fan of miui (It is personal preference)Annoying Ads in miui .(Hope this comment is helpful)\",\n",
       " \"Don't buy - 2nd Sim slot problem and battery problem. Go for other mobiles.Don't buy this product. It is not recognizing the second Sim. Its a different and a saperate slot for 2nd sim unlike the other phones and the phone is not recognizing the 2nd slot. It's better if both the SIM cards are placed in single slot. Battery backup is very low, you will need to charge twice daily.\",\n",
       " \"A budget Smart Phone ❤It's a very good choice on a small budget. I tell You Why...Screen -IPS Screen with HD+ (720*1440) Display , It looks very NiceEasy to read in Day Light.Note - Mobile screen has round shape (but screen shot has corners , IDK how)Battery -I have submitted screen shots about battery uses (It is without sim card)It took 19 hours, from 100 percent to 81 percent (with screen on 33 minutes and with no sim card)So in my opinion battery is decent enough for a day useCamera -I have submitted the photo sample . You can check in ti photos . these photos are taken in day lightcamera is good for day light shooting.SoundSound quality is good, in Speaker as well as in earphone (Earphone is not provided with handset)Phone speaker is loud enough to fill a roomOS and UIComes with android version 8.1 😊UI is Great , Easy to understand.It comes with some unnecessary pre-loaded apps which can be deleted (but not the MI apps)Network CallingI have used it in whatsapp calling only and the voice clarity was good, no issue.I will update my review after 1-2 weeks of use .Recommended ?Yes, Best smart phone according to the budget.\",\n",
       " \"Extremely poor camera.The cameras both front and rear are a huge disappointment as compared to redmi 4 and redmi 5a. I fail to understand how they could deteriorate it from previous phones. Portrait mode doesn't work properly either. I don't expect the camera of S8 or iPhone in 6000 but other phones in the same price range certainly have better to offer. Other features work well but I was really let down with the camera this time.\",\n",
       " 'Processor issueProcessor is so bad.and not working properly.so please note this point.otherwise redmi 5a processor is so good',\n",
       " 'Pretty decent overall performanceAwesome entry level smartphone. Face unlock works a bit slow. But okay. The processor is less power consuming. Full screen display works like charm. A five star for 1.5 day delivery by Amazon. Redmi has lot improved in the music quality section. Pretty decent overall performance. Good choice. Go for it in 6k budget before price rise again.',\n",
       " 'Amazon Mi teller are fraudThe phone which I purchased through amazon is a worst, I cannot trust amazon anymore, I purchased Redmi 6A on 12th of Nov. I own the phone tried using it, since its a dual sim, I inserted my two sim, n tried using,the second sim was not detectable, I took out again n tried inserting again,the same thing was showing on, I took the new phone to a mobile shop to show it, den the shopkeeper said the motherboard is not good, so funny the new phone which I purchased was from amazon redmi 6A,is not a good phone, I have kept the phone to change the mother board..worst experience ever...']"
      ]
     },
     "execution_count": 23,
     "metadata": {},
     "output_type": "execute_result"
    }
   ],
   "source": [
    "review_title_text_list[0:10]"
   ]
  },
  {
   "cell_type": "code",
   "execution_count": 25,
   "metadata": {},
   "outputs": [],
   "source": [
    "sentence_stream = [doc.split(\" \") for doc in review_title_text_list]\n",
    "#sentence_stream"
   ]
  },
  {
   "cell_type": "code",
   "execution_count": 32,
   "metadata": {},
   "outputs": [],
   "source": [
    "bigram = Phrases(sentence_stream,min_count =2 ,threshold =5,delimiter =b' ')\n",
    "bigram_phraser = Phraser(bigram)"
   ]
  },
  {
   "cell_type": "code",
   "execution_count": 34,
   "metadata": {},
   "outputs": [],
   "source": [
    "token_list =[]\n",
    "for sentence in sentence_stream:\n",
    "    tokens_ = bigram_phraser[sentence]\n",
    "    token_list.append(tokens_)"
   ]
  },
  {
   "cell_type": "code",
   "execution_count": 36,
   "metadata": {},
   "outputs": [],
   "source": [
    "#print(token_list[0:5])"
   ]
  },
  {
   "cell_type": "code",
   "execution_count": 37,
   "metadata": {},
   "outputs": [],
   "source": [
    "model = Word2Vec(token_list,size=200,window=5)"
   ]
  },
  {
   "cell_type": "code",
   "execution_count": 38,
   "metadata": {},
   "outputs": [
    {
     "data": {
      "text/plain": [
       "[('laptop', 0.9520254731178284),\n",
       " ('mobile', 0.942232608795166),\n",
       " ('device', 0.9411318302154541),\n",
       " ('phone.', 0.8968348503112793),\n",
       " ('product', 0.896148145198822),\n",
       " ('price segment', 0.8774322867393494),\n",
       " ('price point', 0.8772362470626831),\n",
       " ('phone,', 0.8716287612915039),\n",
       " ('right choice', 0.8696096539497375),\n",
       " ('price rangeThe', 0.8626761436462402)]"
      ]
     },
     "execution_count": 38,
     "metadata": {},
     "output_type": "execute_result"
    }
   ],
   "source": [
    "model.wv.most_similar('phone')"
   ]
  },
  {
   "cell_type": "code",
   "execution_count": 39,
   "metadata": {},
   "outputs": [
    {
     "data": {
      "text/plain": [
       "[('touch', 0.9466921091079712),\n",
       " ('charging', 0.937332272529602),\n",
       " ('unlock', 0.9009383916854858),\n",
       " ('up', 0.8902451395988464),\n",
       " ('fingerprint', 0.8881350755691528),\n",
       " ('also', 0.8867265582084656),\n",
       " ('longer time', 0.8858215808868408),\n",
       " ('slow', 0.8810832500457764),\n",
       " ('working', 0.8802814483642578),\n",
       " ('speaker', 0.8765990734100342)]"
      ]
     },
     "execution_count": 39,
     "metadata": {},
     "output_type": "execute_result"
    }
   ],
   "source": [
    "model.wv.most_similar('screen')"
   ]
  },
  {
   "cell_type": "code",
   "execution_count": 40,
   "metadata": {},
   "outputs": [
    {
     "data": {
      "text/plain": [
       "[('battery drains', 0.9979038238525391),\n",
       " ('faster', 0.9976601004600525),\n",
       " ('response', 0.9975131154060364),\n",
       " ('capture', 0.9963214993476868),\n",
       " ('face lock', 0.9961550235748291),\n",
       " ('accurate', 0.9957171082496643),\n",
       " ('Touch', 0.9954991936683655),\n",
       " ('sensors', 0.9951305389404297),\n",
       " ('fails', 0.995100736618042),\n",
       " ('else everything', 0.9950103759765625)]"
      ]
     },
     "execution_count": 40,
     "metadata": {},
     "output_type": "execute_result"
    }
   ],
   "source": [
    "model.wv.most_similar('image')"
   ]
  },
  {
   "cell_type": "code",
   "execution_count": 42,
   "metadata": {},
   "outputs": [
    {
     "data": {
      "text/plain": [
       "[('water drop', 0.9974199533462524),\n",
       " ('selfies.', 0.9970567226409912),\n",
       " ('especially', 0.9967427253723145),\n",
       " ('super fast', 0.9967241287231445),\n",
       " ('ram management', 0.9966766834259033),\n",
       " ('Keyboard', 0.9966480135917664),\n",
       " ('processing', 0.9962658882141113),\n",
       " ('exynos 7904', 0.9958869814872742),\n",
       " ('battery backup,', 0.9958697557449341),\n",
       " ('crisp', 0.9957691431045532)]"
      ]
     },
     "execution_count": 42,
     "metadata": {},
     "output_type": "execute_result"
    }
   ],
   "source": [
    "model.wv.most_similar('lens')"
   ]
  },
  {
   "cell_type": "code",
   "execution_count": 43,
   "metadata": {},
   "outputs": [],
   "source": [
    "model.wv.save_word2vec_format(\"word2vec_shopping.txt\")"
   ]
  },
  {
   "cell_type": "code",
   "execution_count": 44,
   "metadata": {},
   "outputs": [],
   "source": [
    "import gzip\n",
    "fp =open(\"word2vec_shopping.txt\",\"rb\")\n",
    "data = fp.read()\n",
    "bindata = bytearray(data)\n",
    "with gzip.open(\"word2vec_shopping.txt.gz\",\"wb\") as f:\n",
    "    f.write(bindata)"
   ]
  },
  {
   "cell_type": "code",
   "execution_count": null,
   "metadata": {},
   "outputs": [],
   "source": []
  }
 ],
 "metadata": {
  "kernelspec": {
   "display_name": "Python 3",
   "language": "python",
   "name": "python3"
  },
  "language_info": {
   "codemirror_mode": {
    "name": "ipython",
    "version": 3
   },
   "file_extension": ".py",
   "mimetype": "text/x-python",
   "name": "python",
   "nbconvert_exporter": "python",
   "pygments_lexer": "ipython3",
   "version": "3.8.3"
  }
 },
 "nbformat": 4,
 "nbformat_minor": 4
}
